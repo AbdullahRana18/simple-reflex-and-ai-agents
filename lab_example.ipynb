{
  "cells": [
    {
      "cell_type": "markdown",
      "metadata": {
        "id": "view-in-github",
        "colab_type": "text"
      },
      "source": [
        "<a href=\"https://colab.research.google.com/github/AbdullahRana18/simple-reflex-and-ai-agents/blob/main/lab_example.ipynb\" target=\"_parent\"><img src=\"https://colab.research.google.com/assets/colab-badge.svg\" alt=\"Open In Colab\"/></a>"
      ]
    },
    {
      "cell_type": "code",
      "execution_count": null,
      "metadata": {
        "colab": {
          "base_uri": "https://localhost:8080/"
        },
        "id": "f4xyAT8lPDza",
        "outputId": "0a89b503-010e-4467-d398-0ae5a47cfc0b"
      },
      "outputs": [
        {
          "output_type": "stream",
          "name": "stdout",
          "text": [
            "Menu :\n",
            "0:Anum 1:Taimur 2:Ali 3:Saad\n"
          ]
        }
      ],
      "source": [
        "percept = [\"Anum\", \"Taimur\", \"Ali\", \"Saad\"]\n",
        "state = [\"happy\", \"sad\", \"angry\", \"normal\"]\n",
        "rule = [\"smile\" , \"cry\", \"frown\" , \"watch football\"]\n",
        "def GetState(cPercept):\n",
        "  index=-1\n",
        "  for p in percept:\n",
        "    index=index+1\n",
        "    if p==cPercept:\n",
        "      return state[index]\n",
        "def GetRule(cState):\n",
        "  index =-1\n",
        "  for s in state:\n",
        "    index=index+1\n",
        "    if s==cState:\n",
        "      return rule[index]\n",
        "def SimpleReflexAgent(cPercept):\n",
        "  return GetRule(GetState(cPercept))\n",
        "print('Menu :')\n",
        "print('0:Anum 1:Taimur 2:Ali 3:Saad')\n",
        "print(SimpleReflexAgent(percept[int(input(\"Enter Input Number : \"))]))"
      ]
    },
    {
      "cell_type": "code",
      "execution_count": null,
      "metadata": {
        "colab": {
          "background_save": true
        },
        "id": "dBWXDDKJZkAs"
      },
      "outputs": [],
      "source": [
        "#Example 02\n",
        "percept = [\"Red\", \"Green\", \"Yellow\"]\n",
        "state = [ \"stop\", \"Start\", \"Go\"]\n",
        "rule = [\"stop\", \"Start\", \"Go\"]\n",
        "def GetState(cPercept):\n",
        "  index=-1\n",
        "  for p in percept:\n",
        "    index=index+1\n",
        "    if p==cPercept:\n",
        "      return state[index]\n",
        "def GetRule(cState):\n",
        "  index =-1\n",
        "  for s in state:\n",
        "    index=index+1\n",
        "    if s==cState:\n",
        "      return rule[index]\n",
        "def SimpleReflexAgent(cPercept):\n",
        "  return GetRule(GetState(cPercept))\n",
        "print('Menu :')\n",
        "print('0:Red 1:Green 2:Yellow')\n",
        "print(SimpleReflexAgent(percept[int(input(\"Enter Input Number : \"))]))"
      ]
    },
    {
      "cell_type": "code",
      "execution_count": null,
      "metadata": {
        "id": "s8UbWwUkofla"
      },
      "outputs": [],
      "source": []
    }
  ],
  "metadata": {
    "colab": {
      "provenance": [],
      "authorship_tag": "ABX9TyMDf6gAD1Lr+G2qj7fDbSMO",
      "include_colab_link": true
    },
    "kernelspec": {
      "display_name": "Python 3",
      "name": "python3"
    },
    "language_info": {
      "name": "python"
    }
  },
  "nbformat": 4,
  "nbformat_minor": 0
}