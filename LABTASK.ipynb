{
  "nbformat": 4,
  "nbformat_minor": 0,
  "metadata": {
    "colab": {
      "provenance": [],
      "authorship_tag": "ABX9TyNcYvxkoEp2HIfpd7D0FL/O",
      "include_colab_link": true
    },
    "kernelspec": {
      "name": "python3",
      "display_name": "Python 3"
    },
    "language_info": {
      "name": "python"
    }
  },
  "cells": [
    {
      "cell_type": "markdown",
      "metadata": {
        "id": "view-in-github",
        "colab_type": "text"
      },
      "source": [
        "<a href=\"https://colab.research.google.com/github/AbdullahRana18/simple-reflex-and-ai-agents/blob/main/LABTASK.ipynb\" target=\"_parent\"><img src=\"https://colab.research.google.com/assets/colab-badge.svg\" alt=\"Open In Colab\"/></a>"
      ]
    },
    {
      "cell_type": "code",
      "source": [
        "#Example 03\n",
        "percept = [\"Dirty\", \"Wet\"]\n",
        "state = [\"Start Cleaning\" , \"Change Direction to left or right\"]\n",
        "rule = [\"Start Cleaning\", \"Change Direction to left or right\"]\n",
        "def GetState(cPercept):\n",
        "  index=-1\n",
        "  for p in percept:\n",
        "    index=index+1\n",
        "    if p==cPercept:\n",
        "      return state[index]\n",
        "def GetRule(cState):\n",
        "  index =-1\n",
        "  for s in state:\n",
        "    index=index+1-\n",
        "    if s==cState:\n",
        "      return rule[index]\n",
        "def SimpleReflexAgent(cPercept):\n",
        "  return GetRule(GetState(cPercept))\n",
        "print('Menu :')\n",
        "print('0:Dirty 1:Wet')\n",
        "print(SimpleReflexAgent(percept[int(input(\"Enter Input Number : \"))]))"
      ],
      "metadata": {
        "colab": {
          "base_uri": "https://localhost:8080/"
        },
        "id": "pxWDKbK-q-0g",
        "outputId": "79a3778d-504d-45bd-8a04-88fe14ab02d3"
      },
      "execution_count": null,
      "outputs": [
        {
          "output_type": "stream",
          "name": "stdout",
          "text": [
            "Menu :\n",
            "0:Dirty 1:Wet\n",
            "Enter Input Number : 1\n",
            "Change Direction to left or right\n"
          ]
        }
      ]
    },
    {
      "cell_type": "code",
      "source": [],
      "metadata": {
        "id": "SbRycBIUsBsz"
      },
      "execution_count": null,
      "outputs": []
    }
  ]
}